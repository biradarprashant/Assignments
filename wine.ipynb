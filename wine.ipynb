{
 "cells": [
  {
   "cell_type": "code",
   "execution_count": 1,
   "metadata": {},
   "outputs": [],
   "source": [
    "import pandas as pd \n",
    "import numpy as np\n",
    "from sklearn.decomposition import PCA\n",
    "import matplotlib.pyplot as plt\n",
    "from sklearn.preprocessing import scale"
   ]
  },
  {
   "cell_type": "code",
   "execution_count": 2,
   "metadata": {},
   "outputs": [
    {
     "data": {
      "text/html": [
       "<div>\n",
       "<style scoped>\n",
       "    .dataframe tbody tr th:only-of-type {\n",
       "        vertical-align: middle;\n",
       "    }\n",
       "\n",
       "    .dataframe tbody tr th {\n",
       "        vertical-align: top;\n",
       "    }\n",
       "\n",
       "    .dataframe thead th {\n",
       "        text-align: right;\n",
       "    }\n",
       "</style>\n",
       "<table border=\"1\" class=\"dataframe\">\n",
       "  <thead>\n",
       "    <tr style=\"text-align: right;\">\n",
       "      <th></th>\n",
       "      <th>Type</th>\n",
       "      <th>Alcohol</th>\n",
       "      <th>Malic</th>\n",
       "      <th>Ash</th>\n",
       "      <th>Alcalinity</th>\n",
       "      <th>Magnesium</th>\n",
       "      <th>Phenols</th>\n",
       "      <th>Flavanoids</th>\n",
       "      <th>Nonflavanoids</th>\n",
       "      <th>Proanthocyanins</th>\n",
       "      <th>Color</th>\n",
       "      <th>Hue</th>\n",
       "      <th>Dilution</th>\n",
       "      <th>Proline</th>\n",
       "    </tr>\n",
       "  </thead>\n",
       "  <tbody>\n",
       "    <tr>\n",
       "      <th>0</th>\n",
       "      <td>1</td>\n",
       "      <td>14.23</td>\n",
       "      <td>1.71</td>\n",
       "      <td>2.43</td>\n",
       "      <td>15.6</td>\n",
       "      <td>127</td>\n",
       "      <td>2.80</td>\n",
       "      <td>3.06</td>\n",
       "      <td>0.28</td>\n",
       "      <td>2.29</td>\n",
       "      <td>5.64</td>\n",
       "      <td>1.04</td>\n",
       "      <td>3.92</td>\n",
       "      <td>1065</td>\n",
       "    </tr>\n",
       "    <tr>\n",
       "      <th>1</th>\n",
       "      <td>1</td>\n",
       "      <td>13.20</td>\n",
       "      <td>1.78</td>\n",
       "      <td>2.14</td>\n",
       "      <td>11.2</td>\n",
       "      <td>100</td>\n",
       "      <td>2.65</td>\n",
       "      <td>2.76</td>\n",
       "      <td>0.26</td>\n",
       "      <td>1.28</td>\n",
       "      <td>4.38</td>\n",
       "      <td>1.05</td>\n",
       "      <td>3.40</td>\n",
       "      <td>1050</td>\n",
       "    </tr>\n",
       "    <tr>\n",
       "      <th>2</th>\n",
       "      <td>1</td>\n",
       "      <td>13.16</td>\n",
       "      <td>2.36</td>\n",
       "      <td>2.67</td>\n",
       "      <td>18.6</td>\n",
       "      <td>101</td>\n",
       "      <td>2.80</td>\n",
       "      <td>3.24</td>\n",
       "      <td>0.30</td>\n",
       "      <td>2.81</td>\n",
       "      <td>5.68</td>\n",
       "      <td>1.03</td>\n",
       "      <td>3.17</td>\n",
       "      <td>1185</td>\n",
       "    </tr>\n",
       "    <tr>\n",
       "      <th>3</th>\n",
       "      <td>1</td>\n",
       "      <td>14.37</td>\n",
       "      <td>1.95</td>\n",
       "      <td>2.50</td>\n",
       "      <td>16.8</td>\n",
       "      <td>113</td>\n",
       "      <td>3.85</td>\n",
       "      <td>3.49</td>\n",
       "      <td>0.24</td>\n",
       "      <td>2.18</td>\n",
       "      <td>7.80</td>\n",
       "      <td>0.86</td>\n",
       "      <td>3.45</td>\n",
       "      <td>1480</td>\n",
       "    </tr>\n",
       "    <tr>\n",
       "      <th>4</th>\n",
       "      <td>1</td>\n",
       "      <td>13.24</td>\n",
       "      <td>2.59</td>\n",
       "      <td>2.87</td>\n",
       "      <td>21.0</td>\n",
       "      <td>118</td>\n",
       "      <td>2.80</td>\n",
       "      <td>2.69</td>\n",
       "      <td>0.39</td>\n",
       "      <td>1.82</td>\n",
       "      <td>4.32</td>\n",
       "      <td>1.04</td>\n",
       "      <td>2.93</td>\n",
       "      <td>735</td>\n",
       "    </tr>\n",
       "  </tbody>\n",
       "</table>\n",
       "</div>"
      ],
      "text/plain": [
       "   Type  Alcohol  Malic   Ash  Alcalinity  Magnesium  Phenols  Flavanoids  \\\n",
       "0     1    14.23   1.71  2.43        15.6        127     2.80        3.06   \n",
       "1     1    13.20   1.78  2.14        11.2        100     2.65        2.76   \n",
       "2     1    13.16   2.36  2.67        18.6        101     2.80        3.24   \n",
       "3     1    14.37   1.95  2.50        16.8        113     3.85        3.49   \n",
       "4     1    13.24   2.59  2.87        21.0        118     2.80        2.69   \n",
       "\n",
       "   Nonflavanoids  Proanthocyanins  Color   Hue  Dilution  Proline  \n",
       "0           0.28             2.29   5.64  1.04      3.92     1065  \n",
       "1           0.26             1.28   4.38  1.05      3.40     1050  \n",
       "2           0.30             2.81   5.68  1.03      3.17     1185  \n",
       "3           0.24             2.18   7.80  0.86      3.45     1480  \n",
       "4           0.39             1.82   4.32  1.04      2.93      735  "
      ]
     },
     "execution_count": 2,
     "metadata": {},
     "output_type": "execute_result"
    }
   ],
   "source": [
    "wine=pd.read_csv(\"D:/Excelr-Class/CSV/wine.csv\")\n",
    "wine.head()"
   ]
  },
  {
   "cell_type": "code",
   "execution_count": 3,
   "metadata": {},
   "outputs": [
    {
     "data": {
      "text/plain": [
       "Type                 int64\n",
       "Alcohol            float64\n",
       "Malic              float64\n",
       "Ash                float64\n",
       "Alcalinity         float64\n",
       "Magnesium            int64\n",
       "Phenols            float64\n",
       "Flavanoids         float64\n",
       "Nonflavanoids      float64\n",
       "Proanthocyanins    float64\n",
       "Color              float64\n",
       "Hue                float64\n",
       "Dilution           float64\n",
       "Proline              int64\n",
       "dtype: object"
      ]
     },
     "execution_count": 3,
     "metadata": {},
     "output_type": "execute_result"
    }
   ],
   "source": [
    "wine.dtypes"
   ]
  },
  {
   "cell_type": "code",
   "execution_count": 7,
   "metadata": {},
   "outputs": [],
   "source": [
    "wine1=wine.values\n"
   ]
  },
  {
   "cell_type": "code",
   "execution_count": 8,
   "metadata": {},
   "outputs": [
    {
     "data": {
      "text/plain": [
       "array([[1.000e+00, 1.423e+01, 1.710e+00, ..., 1.040e+00, 3.920e+00,\n",
       "        1.065e+03],\n",
       "       [1.000e+00, 1.320e+01, 1.780e+00, ..., 1.050e+00, 3.400e+00,\n",
       "        1.050e+03],\n",
       "       [1.000e+00, 1.316e+01, 2.360e+00, ..., 1.030e+00, 3.170e+00,\n",
       "        1.185e+03],\n",
       "       ...,\n",
       "       [3.000e+00, 1.327e+01, 4.280e+00, ..., 5.900e-01, 1.560e+00,\n",
       "        8.350e+02],\n",
       "       [3.000e+00, 1.317e+01, 2.590e+00, ..., 6.000e-01, 1.620e+00,\n",
       "        8.400e+02],\n",
       "       [3.000e+00, 1.413e+01, 4.100e+00, ..., 6.100e-01, 1.600e+00,\n",
       "        5.600e+02]])"
      ]
     },
     "execution_count": 8,
     "metadata": {},
     "output_type": "execute_result"
    }
   ],
   "source": [
    "wine1"
   ]
  },
  {
   "cell_type": "code",
   "execution_count": 11,
   "metadata": {},
   "outputs": [],
   "source": [
    "\n",
    "wine_normal=scale(wine1)"
   ]
  },
  {
   "cell_type": "code",
   "execution_count": 12,
   "metadata": {},
   "outputs": [
    {
     "data": {
      "text/plain": [
       "array([[-1.21394365,  1.51861254, -0.5622498 , ...,  0.36217728,\n",
       "         1.84791957,  1.01300893],\n",
       "       [-1.21394365,  0.24628963, -0.49941338, ...,  0.40605066,\n",
       "         1.1134493 ,  0.96524152],\n",
       "       [-1.21394365,  0.19687903,  0.02123125, ...,  0.31830389,\n",
       "         0.78858745,  1.39514818],\n",
       "       ...,\n",
       "       [ 1.37386437,  0.33275817,  1.74474449, ..., -1.61212515,\n",
       "        -1.48544548,  0.28057537],\n",
       "       [ 1.37386437,  0.20923168,  0.22769377, ..., -1.56825176,\n",
       "        -1.40069891,  0.29649784],\n",
       "       [ 1.37386437,  1.39508604,  1.58316512, ..., -1.52437837,\n",
       "        -1.42894777, -0.59516041]])"
      ]
     },
     "execution_count": 12,
     "metadata": {},
     "output_type": "execute_result"
    }
   ],
   "source": [
    "wine_normal"
   ]
  },
  {
   "cell_type": "code",
   "execution_count": 13,
   "metadata": {},
   "outputs": [],
   "source": [
    "\n",
    "\n",
    "pca=PCA()\n",
    "pca_values=pca.fit_transform(wine_normal)"
   ]
  },
  {
   "cell_type": "code",
   "execution_count": 14,
   "metadata": {},
   "outputs": [
    {
     "data": {
      "text/plain": [
       "array([[-3.52293390e+00, -1.45309844e+00, -1.64795488e-01, ...,\n",
       "         5.52927766e-01, -3.02978176e-01,  2.00857450e-01],\n",
       "       [-2.52885806e+00,  3.30019252e-01, -2.02670665e+00, ...,\n",
       "         3.94971160e-01, -1.46645308e-01,  1.26402355e-01],\n",
       "       [-2.78502898e+00, -1.03693595e+00,  9.83237703e-01, ...,\n",
       "         1.89799314e-03,  2.12780166e-02, -5.57515155e-02],\n",
       "       ...,\n",
       "       [ 3.02727243e+00, -2.75604024e+00, -9.40803036e-01, ...,\n",
       "         6.93336340e-01,  1.67035660e-01, -3.16957430e-02],\n",
       "       [ 2.75522166e+00, -2.29378408e+00, -5.50473677e-01, ...,\n",
       "         3.44119826e-01, -1.09514873e-01,  1.02823104e-01],\n",
       "       [ 3.49633565e+00, -2.76060799e+00,  1.01315115e+00, ...,\n",
       "        -1.89866131e-01, -1.64090011e-01, -2.64916504e-01]])"
      ]
     },
     "execution_count": 14,
     "metadata": {},
     "output_type": "execute_result"
    }
   ],
   "source": [
    "pca_values"
   ]
  },
  {
   "cell_type": "code",
   "execution_count": 15,
   "metadata": {},
   "outputs": [],
   "source": [
    "\n",
    "\n",
    "pca=PCA(n_components=6)\n",
    "pca_values=pca.fit_transform(wine_normal)"
   ]
  },
  {
   "cell_type": "code",
   "execution_count": 16,
   "metadata": {},
   "outputs": [
    {
     "data": {
      "text/plain": [
       "array([0.39542486, 0.17836259, 0.10329102, 0.06627984, 0.06267875,\n",
       "       0.0480556 ])"
      ]
     },
     "execution_count": 16,
     "metadata": {},
     "output_type": "execute_result"
    }
   ],
   "source": [
    "# The amount of variance that each PCA explains is \n",
    "var = pca.explained_variance_ratio_\n",
    "var"
   ]
  },
  {
   "cell_type": "code",
   "execution_count": 17,
   "metadata": {},
   "outputs": [
    {
     "data": {
      "text/plain": [
       "array([39.54, 57.38, 67.71, 74.34, 80.61, 85.42])"
      ]
     },
     "execution_count": 17,
     "metadata": {},
     "output_type": "execute_result"
    }
   ],
   "source": [
    "# Cumulative variance \n",
    "var1 = np.cumsum(np.round(var,decimals = 4)*100)\n",
    "var1"
   ]
  },
  {
   "cell_type": "code",
   "execution_count": 18,
   "metadata": {},
   "outputs": [
    {
     "data": {
      "text/plain": [
       "array([[ 0.39366953, -0.13632501,  0.22267638, -0.00225793,  0.22429849,\n",
       "        -0.12463016, -0.35926404, -0.39071171,  0.2670012 , -0.2790625 ,\n",
       "         0.08931829, -0.27682265, -0.35052618, -0.26951525],\n",
       "       [-0.00569041, -0.48416087, -0.22359095, -0.31585588,  0.01161574,\n",
       "        -0.30055143, -0.06711983,  0.00131345, -0.0269887 , -0.04122256,\n",
       "        -0.52978274,  0.27790735,  0.16277625, -0.36605886],\n",
       "       [ 0.00121795, -0.20740081,  0.08879606,  0.62610236,  0.6119896 ,\n",
       "         0.13098458,  0.14650775,  0.15096275,  0.16997551,  0.14987959,\n",
       "        -0.1372663 ,  0.08532854,  0.16620436, -0.12668685],\n",
       "       [ 0.12246373, -0.08191848,  0.46988824, -0.24984122,  0.07199322,\n",
       "        -0.16321412,  0.19098521,  0.14461667, -0.32801272,  0.46275771,\n",
       "         0.07211248, -0.43466618,  0.15672341, -0.2557949 ],\n",
       "       [ 0.15758395, -0.25089415, -0.18860015, -0.0935236 ,  0.0465675 ,\n",
       "         0.77833048, -0.14466563, -0.11200553, -0.43257916,  0.0915882 ,\n",
       "        -0.0462696 , -0.02986657, -0.14419358, -0.08440794],\n",
       "       [ 0.20033864, -0.13517139, -0.59841948, -0.10799983,  0.08811224,\n",
       "        -0.14483831,  0.14809748,  0.06247252,  0.25868639,  0.46627764,\n",
       "         0.42525454, -0.01565089, -0.21770365, -0.0665655 ]])"
      ]
     },
     "execution_count": 18,
     "metadata": {},
     "output_type": "execute_result"
    }
   ],
   "source": [
    "pca.components_"
   ]
  },
  {
   "cell_type": "code",
   "execution_count": 19,
   "metadata": {},
   "outputs": [
    {
     "data": {
      "text/plain": [
       "[<matplotlib.lines.Line2D at 0x27e52dc95f8>]"
      ]
     },
     "execution_count": 19,
     "metadata": {},
     "output_type": "execute_result"
    },
    {
     "data": {
      "image/png": "[encoded data removed]",
      "text/plain": [
       "<Figure size 432x288 with 1 Axes>"
      ]
     },
     "metadata": {
      "needs_background": "light"
     },
     "output_type": "display_data"
    }
   ],
   "source": [
    "# Variance plot for PCA components obtained \n",
    "plt.plot(var1,color=\"red\")"
   ]
  },
  {
   "cell_type": "code",
   "execution_count": 20,
   "metadata": {},
   "outputs": [
    {
     "data": {
      "text/plain": [
       "array([[-3.5229339 ],\n",
       "       [-2.52885806],\n",
       "       [-2.78502898],\n",
       "       [-3.92258841],\n",
       "       [-1.40751111],\n",
       "       [-3.28812981],\n",
       "       [-2.75057754],\n",
       "       [-2.39286652],\n",
       "       [-2.79525633],\n",
       "       [-3.00559666],\n",
       "       [-3.67868855],\n",
       "       [-2.10963477],\n",
       "       [-2.43845636],\n",
       "       [-3.67349453],\n",
       "       [-4.44157575],\n",
       "       [-2.60892387],\n",
       "       [-2.47542846],\n",
       "       [-2.22623243],\n",
       "       [-3.74226929],\n",
       "       [-2.3944115 ],\n",
       "       [-3.33656895],\n",
       "       [-1.48140399],\n",
       "       [-2.82806867],\n",
       "       [-2.00771405],\n",
       "       [-2.11463604],\n",
       "       [-1.39753751],\n",
       "       [-2.13348803],\n",
       "       [-1.62970383],\n",
       "       [-2.50760753],\n",
       "       [-2.55948318],\n",
       "       [-2.77244452],\n",
       "       [-2.93513374],\n",
       "       [-1.99124842],\n",
       "       [-2.24570987],\n",
       "       [-1.78698628],\n",
       "       [-2.22763867],\n",
       "       [-1.76802847],\n",
       "       [-1.52317798],\n",
       "       [-1.87236494],\n",
       "       [-2.79711434],\n",
       "       [-2.84093569],\n",
       "       [-1.1055721 ],\n",
       "       [-3.30689482],\n",
       "       [-0.90479842],\n",
       "       [-2.39683569],\n",
       "       [-1.53781235],\n",
       "       [-2.99121644],\n",
       "       [-3.05931631],\n",
       "       [-2.31877146],\n",
       "       [-2.95947229],\n",
       "       [-3.4121813 ],\n",
       "       [-3.11637827],\n",
       "       [-3.70021113],\n",
       "       [-2.53754828],\n",
       "       [-2.44478924],\n",
       "       [-2.72281451],\n",
       "       [-2.98531677],\n",
       "       [-2.4881469 ],\n",
       "       [-3.35128665],\n",
       "       [ 0.87492504],\n",
       "       [ 1.41466076],\n",
       "       [ 1.71387916],\n",
       "       [-0.01229686],\n",
       "       [-1.83310122],\n",
       "       [ 0.57453595],\n",
       "       [-0.79147116],\n",
       "       [-2.02003148],\n",
       "       [-0.14328098],\n",
       "       [ 0.75150766],\n",
       "       [-1.74032573],\n",
       "       [ 1.47630041],\n",
       "       [-1.49197779],\n",
       "       [ 0.69396686],\n",
       "       [-2.29945716],\n",
       "       [-1.63413138],\n",
       "       [ 0.82899932],\n",
       "       [-0.30043175],\n",
       "       [ 1.3611782 ],\n",
       "       [-1.09604852],\n",
       "       [-0.31921974],\n",
       "       [-0.67125757],\n",
       "       [-0.92411091],\n",
       "       [ 0.46749204],\n",
       "       [ 2.35241675],\n",
       "       [-0.71822325],\n",
       "       [-0.69829604],\n",
       "       [ 0.76457439],\n",
       "       [ 0.52824923],\n",
       "       [ 1.03785507],\n",
       "       [ 0.52142425],\n",
       "       [ 1.25335859],\n",
       "       [ 1.46070926],\n",
       "       [ 1.79124629],\n",
       "       [-0.65330428],\n",
       "       [-0.8361451 ],\n",
       "       [-2.26060732],\n",
       "       [ 0.55547283],\n",
       "       [-0.9149965 ],\n",
       "       [-2.02098347],\n",
       "       [-1.26542677],\n",
       "       [-0.70143229],\n",
       "       [ 0.53086979],\n",
       "       [ 0.17615672],\n",
       "       [ 0.64274197],\n",
       "       [-0.33770614],\n",
       "       [ 1.63721155],\n",
       "       [ 0.35877264],\n",
       "       [ 1.51311874],\n",
       "       [-0.03009626],\n",
       "       [-1.40940236],\n",
       "       [-1.21824444],\n",
       "       [ 0.28831462],\n",
       "       [ 1.19609762],\n",
       "       [ 0.45161819],\n",
       "       [ 0.47183886],\n",
       "       [-0.42339909],\n",
       "       [ 0.26437653],\n",
       "       [ 0.13745847],\n",
       "       [ 2.25047663],\n",
       "       [ 0.53074498],\n",
       "       [-0.64128735],\n",
       "       [-1.18436691],\n",
       "       [ 1.10694195],\n",
       "       [ 0.45864794],\n",
       "       [-0.84610722],\n",
       "       [ 0.11653672],\n",
       "       [ 0.0070867 ],\n",
       "       [ 1.49530863],\n",
       "       [ 0.47860169],\n",
       "       [ 1.66414462],\n",
       "       [ 1.77894554],\n",
       "       [ 2.74191892],\n",
       "       [ 3.25429697],\n",
       "       [ 2.53036635],\n",
       "       [ 2.71302437],\n",
       "       [ 3.34898858],\n",
       "       [ 4.11716696],\n",
       "       [ 4.14412844],\n",
       "       [ 3.3659255 ],\n",
       "       [ 2.71267678],\n",
       "       [ 3.07164523],\n",
       "       [ 2.62614546],\n",
       "       [ 3.26039672],\n",
       "       [ 2.70404699],\n",
       "       [ 2.59084775],\n",
       "       [ 2.9540111 ],\n",
       "       [ 4.45995006],\n",
       "       [ 3.82924957],\n",
       "       [ 3.13365001],\n",
       "       [ 3.2347141 ],\n",
       "       [ 2.71256472],\n",
       "       [ 2.93094044],\n",
       "       [ 2.25057425],\n",
       "       [ 3.09752033],\n",
       "       [ 3.07705567],\n",
       "       [ 3.85615824],\n",
       "       [ 3.20838842],\n",
       "       [ 3.65849417],\n",
       "       [ 1.55298183],\n",
       "       [ 2.05828389],\n",
       "       [ 3.43854934],\n",
       "       [ 2.58448815],\n",
       "       [ 3.14445722],\n",
       "       [ 2.92529398],\n",
       "       [ 3.26182677],\n",
       "       [ 3.77758717],\n",
       "       [ 2.77463925],\n",
       "       [ 3.24261618],\n",
       "       [ 2.56374375],\n",
       "       [ 2.74872948],\n",
       "       [ 3.4911962 ],\n",
       "       [ 3.9291344 ],\n",
       "       [ 2.81529547],\n",
       "       [ 3.6279962 ],\n",
       "       [ 2.94272922],\n",
       "       [ 3.02727243],\n",
       "       [ 2.75522166],\n",
       "       [ 3.49633565]])"
      ]
     },
     "execution_count": 20,
     "metadata": {},
     "output_type": "execute_result"
    }
   ],
   "source": [
    " pca_values[:,0:1]"
   ]
  },
  {
   "cell_type": "code",
   "execution_count": 21,
   "metadata": {},
   "outputs": [
    {
     "data": {
      "text/plain": [
       "<matplotlib.collections.PathCollection at 0x27e5282fb00>"
      ]
     },
     "execution_count": 21,
     "metadata": {},
     "output_type": "execute_result"
    },
    {
     "data": {
      "image/png": "[encoded data removed]",
      "text/plain": [
       "<Figure size 432x288 with 1 Axes>"
      ]
     },
     "metadata": {
      "needs_background": "light"
     },
     "output_type": "display_data"
    }
   ],
   "source": [
    "# plot between PCA1 and PCA2 \n",
    "x = pca_values[:,0:1]\n",
    "y = pca_values[:,1:2]\n",
    "#z = pca_values[:2:3]\n",
    "plt.scatter(x,y)"
   ]
  },
  {
   "cell_type": "code",
   "execution_count": 25,
   "metadata": {},
   "outputs": [],
   "source": [
    "finalDf = pd.concat([pd.DataFrame(pca_values[:,0:2],columns=['pc1','pc2']), wine[['Type']]], axis = 1)"
   ]
  },
  {
   "cell_type": "code",
   "execution_count": 26,
   "metadata": {},
   "outputs": [
    {
     "data": {
      "text/plain": [
       "<matplotlib.axes._subplots.AxesSubplot at 0x27e540ecbe0>"
      ]
     },
     "execution_count": 26,
     "metadata": {},
     "output_type": "execute_result"
    },
    {
     "data": {
      "image/png": "[encoded data removed]",
      "text/plain": [
       "<Figure size 432x288 with 1 Axes>"
      ]
     },
     "metadata": {
      "needs_background": "light"
     },
     "output_type": "display_data"
    }
   ],
   "source": [
    "import seaborn as sns\n",
    "sns.scatterplot(data=finalDf,x='pc1',y='pc2',hue='Type')"
   ]
  },
  {
   "cell_type": "code",
   "execution_count": null,
   "metadata": {},
   "outputs": [],
   "source": []
  }
 ],
 "metadata": {
  "kernelspec": {
   "display_name": "Python 3",
   "language": "python",
   "name": "python3"
  },
  "language_info": {
   "codemirror_mode": {
    "name": "ipython",
    "version": 3
   },
   "file_extension": ".py",
   "mimetype": "text/x-python",
   "name": "python",
   "nbconvert_exporter": "python",
   "pygments_lexer": "ipython3",
   "version": "3.7.0"
  }
 },
 "nbformat": 4,
 "nbformat_minor": 2
}
